{
 "cells": [
  {
   "cell_type": "code",
   "execution_count": null,
   "metadata": {},
   "outputs": [],
   "source": [
    "''' Two Inputs : (i) a directory containing all images, (ii) scenic scenario script \n",
    "    Output     : a list of image_file names that belongs to the scenario'''\n",
    "\n",
    "import os\n",
    "import scenic\n",
    "from scenic.simulators.gta.nusc_query_api import NuscQueryAPI\n",
    "\n",
    "directory = \"/Users/edwardkim/Desktop/nuScenes_data/samples/CAM_FRONT\"\n",
    "scenic_script_path = 'examples/gta/test_boston_seaport.sc'\n",
    "# image_filename = [file for file in os.listdir(directory) if file.endswith('.jpg')]"
   ]
  },
  {
   "cell_type": "code",
   "execution_count": null,
   "metadata": {},
   "outputs": [],
   "source": [
    "# extract image labels\n",
    "query = NuscQueryAPI(version = 'v1.0-trainval', dataroot='/Users/edwardkim/Desktop/nuScenes_data')\n",
    "map_name = 'boston-seaport'"
   ]
  },
  {
   "cell_type": "code",
   "execution_count": null,
   "metadata": {},
   "outputs": [],
   "source": [
    "def deg_to_rad(degrees):\n",
    "    return (degrees + 360) % 360 # <---- need to consider NuScenes reference angle to Scenic's reference angle"
   ]
  },
  {
   "cell_type": "code",
   "execution_count": null,
   "metadata": {},
   "outputs": [],
   "source": [
    "NUM_CAR = 2 # excluding ego\n",
    "\n",
    "# construct scenario\n",
    "scenario = scenic.scenarioFromFile(scenic_script_path)"
   ]
  },
  {
   "cell_type": "code",
   "execution_count": null,
   "metadata": {},
   "outputs": [],
   "source": [
    "from scenic.core.scenarios import Scene\n",
    "from scenic.core.vectors import Vector\n",
    "from scenic.core.distributions import Constant\n",
    "import math\n",
    "\n",
    "NUM_CAR = 1 # excluding ego\n",
    "imgs_in_scenario = []\n",
    "\n",
    "# for loop starts here over all images\n",
    "scenario_copy = scenario\n",
    "obj_list = scenario_copy.dependencies\n",
    "\n",
    "img_filename = 'n008-2018-08-01-15-16-36-0400__CAM_FRONT__1533151603512404.jpg'\n",
    "label = query.get_img_data(img_filename)\n",
    "\n",
    "if query.img_filename_to_location[img_filename] == map_name:\n",
    "    \n",
    "    # skip if the num car condition not met\n",
    "    if (len(label['Vehicles']) >= NUM_CAR):\n",
    "        scenario_deps = [dep for dep in obj_list]\n",
    "        \n",
    "        # extract ego's NuScenes label values\n",
    "        egoCar = label['EgoCar']\n",
    "        ego_position = egoCar['position']\n",
    "        ego_heading = egoCar['heading']\n",
    "        \n",
    "        # condition ego obj's position and heading to NuScene's label values\n",
    "        x_ego = scenario.egoObject\n",
    "        x_ego.position.conditionTo(Vector(ego_position[0], ego_position[1]))\n",
    "        x_ego.heading.conditionTo(Constant(ego_heading - math.pi/2))\n",
    "        scenario_copy.egoObject = x_ego\n",
    "        scenario_deps[0] = x_ego\n",
    "        \n",
    "        # extract NuScenes' non-ego car's labels\n",
    "        otherVehicles = label['Vehicles']\n",
    "\n",
    "        for i in range(NUM_CAR):\n",
    "            scenic_car = scenario_deps[i+1] # +1 added to skip ego car\n",
    "            nuscenes_car = otherVehicles[i]\n",
    "            nusc_car_position = nuscenes_car['position']\n",
    "            nusc_car_heading  = nuscenes_car['heading']\n",
    "            \n",
    "            # condition on nuscenes' position and heading values\n",
    "            scenic_car.position.conditionTo(Vector(nusc_car_position[0], nusc_car_position[1]))\n",
    "            scenic_car.heading.conditionTo(Constant(nusc_car_heading - math.pi/2))\n",
    "            \n",
    "            # save the conditioned scenic car_obj\n",
    "            scenario_deps[i+1] = scenic_car\n",
    "            \n",
    "        scenario_copy.dependencies = tuple(scenario_deps)\n",
    "        scene = scenario_copy.generate(maxIterations = 1)\n",
    "        if isinstance(scene, Scene):\n",
    "            print(\"in scenario: \", img_filename)\n",
    "            print(\"NuScenes label: \", label)\n",
    "            cfg = scenic.simulators.gta.interface.GTA.Config(scene)\n",
    "            print(\"scenic sample: \")\n",
    "            print(cfg.vehicles)\n",
    "            print(cfg.time)\n",
    "            print(cfg.weather)\n",
    "            print(cfg.location)\n",
    "            print(cfg.view_heading)\n",
    "            imgs_in_scenario.append(img_filename)\n",
    "            "
   ]
  },
  {
   "cell_type": "code",
   "execution_count": null,
   "metadata": {},
   "outputs": [],
   "source": [
    "m = query.get_whole_map('boston-seaport')\n",
    "print(m)"
   ]
  },
  {
   "cell_type": "code",
   "execution_count": null,
   "metadata": {},
   "outputs": [],
   "source": [
    "label = query.get_img_data('n008-2018-08-01-15-16-36-0400__CAM_FRONT__1533151603512404.jpg')\n",
    "print(label)"
   ]
  },
  {
   "cell_type": "code",
   "execution_count": null,
   "metadata": {},
   "outputs": [],
   "source": []
  },
  {
   "cell_type": "code",
   "execution_count": null,
   "metadata": {},
   "outputs": [],
   "source": []
  },
  {
   "cell_type": "code",
   "execution_count": null,
   "metadata": {},
   "outputs": [],
   "source": []
  }
 ],
 "metadata": {
  "kernelspec": {
   "display_name": "Python 3",
   "language": "python",
   "name": "python3"
  },
  "language_info": {
   "codemirror_mode": {
    "name": "ipython",
    "version": 3
   },
   "file_extension": ".py",
   "mimetype": "text/x-python",
   "name": "python",
   "nbconvert_exporter": "python",
   "pygments_lexer": "ipython3",
   "version": "3.8.2"
  }
 },
 "nbformat": 4,
 "nbformat_minor": 4
}
