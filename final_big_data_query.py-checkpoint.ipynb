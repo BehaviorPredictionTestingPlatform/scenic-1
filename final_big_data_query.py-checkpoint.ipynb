{
 "cells": [
  {
   "cell_type": "code",
   "execution_count": 1,
   "metadata": {},
   "outputs": [
    {
     "name": "stderr",
     "output_type": "stream",
     "text": [
      "/Users/edwardkim/Desktop/scenic/src/scenic/core/errors.py:157: UserWarning: unable to install sys.excepthook to format Scenic backtraces\n",
      "  warnings.warn('unable to install sys.excepthook to format Scenic backtraces')\n"
     ]
    }
   ],
   "source": [
    "import os\n",
    "import scenic\n",
    "scenic_script = \"./examples/carla/lead_car.scenic\"\n",
    "scenario = scenic.scenarioFromFile(scenic_script)"
   ]
  },
  {
   "cell_type": "code",
   "execution_count": 2,
   "metadata": {
    "scrolled": true
   },
   "outputs": [],
   "source": [
    "from scenic.core.vectors import *\n",
    "from scenic.core.distributions import *\n",
    "from scenic.core.regions import *\n",
    "import shapely.geometry\n",
    "from scenic.domains.driving.roads import ManeuverType, Network\n",
    "map_path = '/Users/edwardkim/Desktop/Scenic-devel/examples/carla/../../tests/formats/opendrive/maps/CARLA/Town05.xodr'\n",
    "network = Network.fromFile(map_path)\n"
   ]
  },
  {
   "cell_type": "code",
   "execution_count": 13,
   "metadata": {
    "scrolled": true
   },
   "outputs": [
    {
     "name": "stdout",
     "output_type": "stream",
     "text": [
      "PointIn(TypecheckedDistribution(TypecheckedDistribution(<scenic.domains.driving.roads.Network object at 0x12c2e8b80>.laneAt(unnamed Car (5036449120), reject=object is not in a lane), <class 'scenic.core.regions.Region'>).intersect.__call__(<SectorRegion>), <class 'scenic.core.regions.Region'>))\n",
      "<class 'scenic.core.regions.PointInRegionDistribution'>\n",
      "PointInRegionDistribution distribution:  TypecheckedDistribution(<scenic.domains.driving.roads.Network object at 0x12c2e8b80>.laneAt(unnamed Car (5036449120), reject=object is not in a lane), <class 'scenic.core.regions.Region'>).intersect.__call__(<SectorRegion>)\n",
      "PointInRegionDistribution distribution type:  <class 'scenic.core.distributions.OperatorDistribution'>\n",
      "obj type:  <class 'scenic.core.vectors.OrientedVector'>\n"
     ]
    },
    {
     "data": {
      "image/png": "[encoded data removed]",
      "text/plain": [
       "<Figure size 432x288 with 1 Axes>"
      ]
     },
     "metadata": {},
     "output_type": "display_data"
    },
    {
     "name": "stdout",
     "output_type": "stream",
     "text": [
      "PointInRegionDistribution TypecheckedDistribution output_var\n",
      "point:  ('x1', 'y1')\n"
     ]
    }
   ],
   "source": [
    "from scenic.core.distributions import *\n",
    "import math \n",
    "\n",
    "ego = scenario.objects[0]\n",
    "pos = ego.position\n",
    "ego_x = 2154.481131509386\n",
    "ego_y = 876.9252939736548\n",
    "ego_heading = 1.5957193453819762\n",
    "ego_orientedVector = OrientedVector(ego_x, ego_y, ego_heading)\n",
    "ego_visibleDistance = 50\n",
    "ego_viewAngle = 140 * math.pi/ 180\n",
    "pos._conditioned = ego_orientedVector\n",
    "ego_sectorRegion = SectorRegion(ego_orientedVector, ego_visibleDistance, \\\n",
    "                                ego_orientedVector.heading, ego_viewAngle)\n",
    "\n",
    "otherCar = scenario.objects[1]\n",
    "other_pos = otherCar.position\n",
    "print(other_pos)\n",
    "print(type(other_pos))\n",
    "\n",
    "if scenic_script == \"./examples/carla/lead_car.scenic\":\n",
    "    operatorDist = other_pos.region.dist\n",
    "    sectorRegion = operatorDist.operands[0]\n",
    "    sectorRegion._conditioned = ego_sectorRegion\n",
    "\n",
    "smt_file_path = './test_smt_encoding.smt2'\n",
    "open(smt_file_path, 'w').close()\n",
    "writeSMTtoFile(smt_file_path, '(set-logic QF_NRA)')\n",
    "\n",
    "cached_variables ={'ego': ego_orientedVector}\n",
    "cached_variables['network'] = network\n",
    "cached_variables['ego_view_radius'] = ego_visibleDistance\n",
    "cached_variables['ego_viewAngle'] = ego_viewAngle\n",
    "cached_variables['variables'] = []\n",
    "cached_variables['ego_visibleRegion'] = ego_sectorRegion\n",
    "cached_variables['ego_sector_polygon'] = cached_variables['ego_visibleRegion'].polygon\n",
    "\n",
    "x = findVariableName(cached_variables, smt_file_path, cached_variables['variables'],\"x\")\n",
    "y = findVariableName(cached_variables, smt_file_path, cached_variables['variables'],\"y\")\n",
    "\n",
    "cached_variables['current_obj'] = (x, y)\n",
    "point = other_pos.encodeToSMT(smt_file_path, cached_variables, debug=False)\n",
    "print(\"point: \",point)\n",
    "\n",
    "real_x = 2143.6701080247767\n",
    "real_y = 881.0164951423136\n",
    "x_label = str(real_x)\n",
    "y_label = str(real_y)\n",
    "\n",
    "x_diff = '(abs '+smt_subtract(point[0], x_label)+')'\n",
    "y_diff = '(abs '+smt_subtract(point[1], y_label)+')'\n",
    "smt_x = smt_lessThan(x_diff, '0.01')\n",
    "smt_y = smt_lessThan(y_diff, '0.01')\n",
    "smt_encoding = smt_assert(\"and\", smt_x, smt_y)\n",
    "writeSMTtoFile(smt_file_path, smt_encoding)\n",
    "writeSMTtoFile(smt_file_path, '(check-sat)')\n",
    "writeSMTtoFile(smt_file_path, '(get-model)')\n",
    "writeSMTtoFile(smt_file_path, '(exit)')\n"
   ]
  },
  {
   "cell_type": "code",
   "execution_count": 4,
   "metadata": {
    "scrolled": false
   },
   "outputs": [
    {
     "name": "stdout",
     "output_type": "stream",
     "text": [
      "<class 'scenic.core.regions.PointInRegionDistribution'>\n",
      "PointIn(TypecheckedDistribution(TypecheckedDistribution(<scenic.domains.driving.roads.Network object at 0x12c2e8b80>.laneAt(unnamed Car (5036449120), reject=object is not in a lane), <class 'scenic.core.regions.Region'>).intersect.__call__(<SectorRegion>), <class 'scenic.core.regions.Region'>))\n",
      "OPERATORDISTRIBUTION\n",
      "object type:  <class 'scenic.core.distributions.AttributeDistribution'>\n",
      "__call__\n",
      "<SectorRegion>\n",
      "AttributeDistribution: \n",
      "object:  <class 'scenic.core.distributions.MethodDistribution'>\n",
      "attribute:  intersect\n",
      "MethodDistribution\n",
      "object:  <class 'scenic.domains.driving.roads.Network'>\n",
      "method:  <function Network.laneAt at 0x117e68a60>\n",
      "arguments:  <class 'scenic.domains.driving.model.Car'>\n"
     ]
    }
   ],
   "source": [
    "\n",
    "ego = scenario.egoObject\n",
    "pos = ego.position\n",
    "\n",
    "otherCar = scenario.objects[1]\n",
    "other_pos = otherCar.position\n",
    "print(type(other_pos))\n",
    "print(other_pos)\n",
    "operatorDist = other_pos.region.dist\n",
    "print(\"OPERATORDISTRIBUTION\")\n",
    "print(\"object type: \", type(operatorDist.object))\n",
    "print(operatorDist.operator)\n",
    "print(operatorDist.operands[0])\n",
    "sectorRegion = operatorDist.operands[0]\n",
    "\n",
    "attributeDist = operatorDist.object\n",
    "print(\"AttributeDistribution: \")\n",
    "print(\"object: \", type(attributeDist.object.dist))\n",
    "print(\"attribute: \", attributeDist.attribute)\n",
    "\n",
    "methodDist = attributeDist.object.dist\n",
    "print(\"MethodDistribution\")\n",
    "print(\"object: \", type(methodDist.object))\n",
    "print(\"method: \", methodDist.method)\n",
    "print(\"arguments: \", type(methodDist.arguments[0]))"
   ]
  },
  {
   "cell_type": "code",
   "execution_count": 14,
   "metadata": {},
   "outputs": [
    {
     "name": "stdout",
     "output_type": "stream",
     "text": [
      "TypecheckedDistribution(TypecheckedDistribution(TypecheckedDistribution(<scenic.domains.driving.roads.Network object at 0x12c2e8b80>.laneAt(unnamed Car (5036449120), reject=object is not in a lane), <class 'scenic.core.regions.Region'>).intersect.__call__(<SectorRegion>), <class 'scenic.core.regions.Region'>).orientation.__getitem__(PointIn(TypecheckedDistribution(TypecheckedDistribution(<scenic.domains.driving.roads.Network object at 0x12c2e8b80>.laneAt(unnamed Car (5036449120), reject=object is not in a lane), <class 'scenic.core.regions.Region'>).intersect.__call__(<SectorRegion>), <class 'scenic.core.regions.Region'>))), <class 'float'>)\n"
     ]
    }
   ],
   "source": [
    "print(otherCar.heading)"
   ]
  },
  {
   "cell_type": "code",
   "execution_count": 6,
   "metadata": {},
   "outputs": [
    {
     "data": {
      "text/plain": [
       "(2143.6701080247767 @ 881.0164951423136)"
      ]
     },
     "execution_count": 6,
     "metadata": {},
     "output_type": "execute_result"
    }
   ],
   "source": []
  },
  {
   "cell_type": "code",
   "execution_count": 7,
   "metadata": {
    "scrolled": true
   },
   "outputs": [
    {
     "name": "stdout",
     "output_type": "stream",
     "text": [
      "<PolylineRegion>\n"
     ]
    }
   ],
   "source": []
  },
  {
   "cell_type": "code",
   "execution_count": 8,
   "metadata": {
    "scrolled": true
   },
   "outputs": [
    {
     "name": "stdout",
     "output_type": "stream",
     "text": [
      "2147.174501971484 895.5428438875359\n",
      "21.42798377776577\n",
      "-0.36533147689511547\n",
      "0.9308774956940541\n"
     ]
    }
   ],
   "source": []
  },
  {
   "cell_type": "code",
   "execution_count": 9,
   "metadata": {},
   "outputs": [
    {
     "name": "stdout",
     "output_type": "stream",
     "text": [
      "2148.1112040574617 857.9668123821027\n",
      "161.42798377776577\n",
      "-0.31849637259622043\n",
      "-0.9479240795776049\n"
     ]
    }
   ],
   "source": []
  },
  {
   "cell_type": "code",
   "execution_count": 10,
   "metadata": {},
   "outputs": [
    {
     "data": {
      "text/plain": [
       "0.06912250430594591"
      ]
     },
     "execution_count": 10,
     "metadata": {},
     "output_type": "execute_result"
    }
   ],
   "source": [
    "1-math.sin(1.9447851957808422)"
   ]
  },
  {
   "cell_type": "code",
   "execution_count": null,
   "metadata": {},
   "outputs": [],
   "source": []
  },
  {
   "cell_type": "code",
   "execution_count": 11,
   "metadata": {
    "scrolled": true
   },
   "outputs": [
    {
     "data": {
      "text/plain": [
       "161.42798377776577"
      ]
     },
     "execution_count": 11,
     "metadata": {},
     "output_type": "execute_result"
    }
   ],
   "source": [
    "math.degrees(ego_heading + ego_viewAngle/2)"
   ]
  },
  {
   "cell_type": "code",
   "execution_count": null,
   "metadata": {},
   "outputs": [],
   "source": []
  },
  {
   "cell_type": "code",
   "execution_count": null,
   "metadata": {
    "scrolled": true
   },
   "outputs": [],
   "source": []
  },
  {
   "cell_type": "code",
   "execution_count": null,
   "metadata": {},
   "outputs": [],
   "source": []
  },
  {
   "cell_type": "code",
   "execution_count": null,
   "metadata": {},
   "outputs": [],
   "source": []
  },
  {
   "cell_type": "code",
   "execution_count": null,
   "metadata": {
    "scrolled": true
   },
   "outputs": [],
   "source": []
  },
  {
   "cell_type": "code",
   "execution_count": null,
   "metadata": {},
   "outputs": [],
   "source": []
  },
  {
   "cell_type": "code",
   "execution_count": null,
   "metadata": {},
   "outputs": [],
   "source": []
  },
  {
   "cell_type": "code",
   "execution_count": 12,
   "metadata": {},
   "outputs": [],
   "source": [
    "\n",
    "# import matplotlib.pyplot as plt\n",
    "# from scenic.core.geometry import triangulatePolygon\n",
    "# from scenic.core.vectors import Vector, OrientedVector\n",
    "\n",
    "# def VectorToTuple(vector):\n",
    "# \treturn (vector.x, vector.y)\n",
    "\n",
    "# half_angle = 2 / 2\n",
    "# radius = 10\n",
    "# resolution = 24\n",
    "# center = OrientedVector(-224.72849179, -82.508920774, 2)\n",
    "# circle_center_pt = (center.x, center.y)\n",
    "# heading = center.heading\n",
    "# ctr = shapely.geometry.Point(circle_center_pt)\n",
    "# circle = ctr.buffer(radius, resolution)\n",
    "\n",
    "# mask = shapely.geometry.Polygon([circle_center_pt, VectorToTuple(center.offsetRadially(radius, heading + half_angle)), \\\n",
    "# VectorToTuple(center.offsetRadially(2*radius, heading)), VectorToTuple(center.offsetRadially(radius, heading - half_angle))])\n",
    "# sector = circle & mask\n",
    "\n",
    "# print(multipolygon[0])\n",
    "# intersection = multipolygon[0] & sector\n",
    "# inter = triangulatePolygon(intersection)\n",
    "# print(inter)\n",
    "# plt.plot(*inter[0].exterior.xy)\n",
    "# plt.plot(*inter[1].exterior.xy)\n",
    "# plt.show()\n",
    "\n",
    "# plt.plot(*multipolygon[0].exterior.xy, color='k')\n",
    "# plt.show()\n",
    "# plt.plot(*sector.exterior.xy, color='g')\n",
    "# plt.show()\n",
    "\n",
    "# intersection = []\n",
    "# for polygon in multipolygon:\n",
    "#     inter = polygon & circle\n",
    "#     if inter != shapely.geometry.Polygon():\n",
    "#         intersection.append(inter)\n",
    "\n",
    "# import matplotlib.pyplot as plt\n",
    "\n",
    "# print(intersection[0])\n",
    "# plt.plot(*intersection[1].exterior.xy)"
   ]
  }
 ],
 "metadata": {
  "kernelspec": {
   "display_name": "Python 3",
   "language": "python",
   "name": "python3"
  },
  "language_info": {
   "codemirror_mode": {
    "name": "ipython",
    "version": 3
   },
   "file_extension": ".py",
   "mimetype": "text/x-python",
   "name": "python",
   "nbconvert_exporter": "python",
   "pygments_lexer": "ipython3",
   "version": "3.8.2"
  }
 },
 "nbformat": 4,
 "nbformat_minor": 4
}
