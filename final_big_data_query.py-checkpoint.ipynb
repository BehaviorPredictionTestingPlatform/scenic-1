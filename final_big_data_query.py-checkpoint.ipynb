{
 "cells": [
  {
   "cell_type": "code",
   "execution_count": 28,
   "metadata": {},
   "outputs": [],
   "source": [
    "import os\n",
    "import scenic\n",
    "scenic_script = \"./examples/carla/car.scenic\"\n",
    "scenario = scenic.scenarioFromFile(scenic_script)"
   ]
  },
  {
   "cell_type": "code",
   "execution_count": 29,
   "metadata": {},
   "outputs": [
    {
     "name": "stdout",
     "output_type": "stream",
     "text": [
      "PointIn(<IntersectionRegion>).offsetRotated(<VectorField Polyline>.__getitem__(PointIn(<IntersectionRegion>)), (-1.5 @ 0))\n",
      "<PolylineRegion>\n"
     ]
    }
   ],
   "source": [
    "pos=scenario.objects[1].position\n",
    "print(pos)\n",
    "regions = pos.operands[0].arguments[0].region.regions\n",
    "print(regions[1])"
   ]
  },
  {
   "cell_type": "code",
   "execution_count": 64,
   "metadata": {
    "scrolled": true
   },
   "outputs": [],
   "source": [
    "from scenic.core.vectors import *\n",
    "from scenic.core.distributions import *\n",
    "from scenic.core.regions import *\n",
    "import shapely.geometry\n",
    "import scenic.domains.driving.roads as roads\n",
    "# map_path = '/Users/edwardkim/Desktop/Scenic-devel/examples/carla/../../tests/formats/opendrive/maps/CARLA/Town05.xodr'\n",
    "# network = Network.fromFile(map_path)\n"
   ]
  },
  {
   "cell_type": "code",
   "execution_count": 82,
   "metadata": {},
   "outputs": [
    {
     "name": "stdout",
     "output_type": "stream",
     "text": [
      "PointIn(TypecheckedDistribution(TypecheckedDistribution(<scenic.domains.driving.roads.Network object at 0x17e2bf6d0>.laneAt(unnamed Car (6256712720), reject=object is not in a lane), <class 'scenic.core.regions.Region'>).intersect.__call__(<SectorRegion>), <class 'scenic.core.regions.Region'>))\n",
      "TypecheckedDistribution(<scenic.domains.driving.roads.Network object at 0x17e2bf6d0>.laneAt(unnamed Car (6256712720), reject=object is not in a lane), <class 'scenic.core.regions.Region'>).intersect.__call__(<SectorRegion>)\n",
      "<class 'scenic.core.distributions.Options'>\n"
     ]
    }
   ],
   "source": [
    "sample = Samplable.sampleAll(scenario.dependencies)\n",
    "objs = scenario.objects\n",
    "# print(scenario.egoObject.position)\n",
    "# print(\"\\n\")\n",
    "# print(scenario.objects[1].position)\n",
    "\n",
    "pos = sample[objs[1]].position\n",
    "print(objs[1].position)\n",
    "d = objs[1].position.region.dist\n",
    "print(d)\n",
    "lane = d.operands[0].center.object.region\n",
    "print(type(lane._conditioned))\n",
    "# print(lane._conditioned)\n",
    "# print(isinstance(lane, Region))\n",
    "# print(lane.containsPoint(pos))"
   ]
  },
  {
   "cell_type": "code",
   "execution_count": 3,
   "metadata": {
    "scrolled": false
   },
   "outputs": [
    {
     "name": "stdout",
     "output_type": "stream",
     "text": [
      "======\n",
      "Loading NuScenes tables for version v1.0-trainval...\n",
      "23 category,\n",
      "8 attribute,\n",
      "4 visibility,\n",
      "64386 instance,\n",
      "12 sensor,\n",
      "10200 calibrated_sensor,\n",
      "2631083 ego_pose,\n",
      "68 log,\n",
      "850 scene,\n",
      "34149 sample,\n",
      "2631083 sample_data,\n",
      "1166187 sample_annotation,\n",
      "4 map,\n",
      "Done loading in 43.195 seconds.\n",
      "======\n",
      "Reverse indexing ...\n",
      "Done reverse indexing in 14.6 seconds.\n",
      "======\n"
     ]
    }
   ],
   "source": [
    "from scenic.core.distributions import *\n",
    "import math \n",
    "from scenic.nusc_query_api import NuscQueryAPI\n",
    "\n",
    "query = NuscQueryAPI(version = 'v1.0-trainval', dataroot='/Users/edwardkim/Desktop/nusc-query')\n",
    "map_name = 'boston-seaport'\n",
    "directory = \"/Users/edwardkim/Desktop/nuScenes_data/samples/boston_seaport\"\n",
    "\n",
    "\n"
   ]
  },
  {
   "cell_type": "code",
   "execution_count": 4,
   "metadata": {},
   "outputs": [
    {
     "name": "stdout",
     "output_type": "stream",
     "text": [
      "{'EgoCar': {'heading': -143.05984467383433, 'position': (1807.5645769752853, 1147.0887253543801)}, 'Vehicles': [{'heading': 56.05000000007385, 'position': (1781.229, 1131.489), 'box': <shapely.geometry.polygon.Polygon object at 0x135d72d90>}, {'heading': 62.62200000039485, 'position': (1753.77, 1094.138), 'box': <shapely.geometry.polygon.Polygon object at 0x135b50af0>}], 'road': <shapely.geometry.multipolygon.MultiPolygon object at 0x134d4ad00>, 'sidewalk': <shapely.geometry.multipolygon.MultiPolygon object at 0x135b1ae20>, 'time': '11:13', 'description': 'Turn left, truck parked in the middle of the street, ego vehicle coming to full stand', 'traffic_flow': <function NuscQueryAPI.get_img_data.<locals>.get_traffic_flow at 0x136cfb160>}\n"
     ]
    }
   ],
   "source": [
    "import os\n",
    "image_dir = '/Users/edwardkim/Desktop/nusc-query/nusc_500_images'\n",
    "image_fileNames = [img for img in os.listdir(image_dir) if img.endswith('.jpg')]\n",
    "\n",
    "img = image_fileNames[0]\n",
    "print(query.get_img_data(img))\n"
   ]
  },
  {
   "cell_type": "code",
   "execution_count": 6,
   "metadata": {},
   "outputs": [
    {
     "name": "stdout",
     "output_type": "stream",
     "text": [
      "True\n"
     ]
    }
   ],
   "source": [
    "ego_x = 2154.481131509386\n",
    "ego_y = 876.9252939736548\n",
    "ego_heading = 1.5957193453819762\n",
    "ego_visibleDistance = 50\n",
    "ego_viewAngle = 140 * math.pi/ 180\n",
    "ego = scenario.egoObject\n",
    "pos = ego.position\n",
    "ego_orientedVector = OrientedVector(ego_x, ego_y, ego_heading)\n",
    "pos.conditionTo(ego_orientedVector)\n",
    "ego_sectorRegion = SectorRegion(ego_orientedVector, ego_visibleDistance, \\\n",
    "                                ego_orientedVector.heading, ego_viewAngle)\n",
    "\n",
    "otherCar = scenario.objects[1]\n",
    "other_pos = otherCar.position\n",
    "\n",
    "if scenic_script == \"./examples/carla/lead_car.scenic\":\n",
    "    operatorDist = other_pos.region.dist\n",
    "    sectorRegion = operatorDist.operands[0]\n",
    "    sectorRegion._conditioned = ego_sectorRegion\n",
    "\n",
    "smt_file_path = './test_smt_encoding.smt2'\n",
    "open(smt_file_path, 'w').close()\n",
    "writeSMTtoFile(smt_file_path, '(set-logic QF_NRA)')\n",
    "\n",
    "cached_variables ={'ego': ego_orientedVector}\n",
    "cached_variables['network'] = network\n",
    "cached_variables['ego_view_radius'] = ego_visibleDistance\n",
    "cached_variables['ego_viewAngle'] = ego_viewAngle\n",
    "cached_variables['variables'] = []\n",
    "cached_variables['ego_visibleRegion'] = ego_sectorRegion\n",
    "cached_variables['ego_sector_polygon'] = cached_variables['ego_visibleRegion'].polygon\n",
    "\n",
    "x = findVariableName(cached_variables, smt_file_path, cached_variables['variables'],\"x\")\n",
    "y = findVariableName(cached_variables, smt_file_path, cached_variables['variables'],\"y\")\n",
    "\n",
    "cached_variables['current_obj'] = (x, y)\n",
    "point = other_pos.encodeToSMT(smt_file_path, cached_variables, debug=False)\n",
    "\n",
    "real_x = 2143.6701080247767\n",
    "real_y = 881.0164951423136\n",
    "x_label = str(real_x)\n",
    "y_label = str(real_y)\n",
    "\n",
    "x_diff = '(abs '+smt_subtract(point[0], x_label)+')'\n",
    "y_diff = '(abs '+smt_subtract(point[1], y_label)+')'\n",
    "smt_x = smt_lessThan(x_diff, '0.01')\n",
    "smt_y = smt_lessThan(y_diff, '0.01')\n",
    "smt_encoding = smt_assert(\"and\", smt_x, smt_y)\n",
    "writeSMTtoFile(smt_file_path, smt_encoding)\n",
    "writeSMTtoFile(smt_file_path, '(check-sat)')\n",
    "writeSMTtoFile(smt_file_path, '(get-model)')\n",
    "writeSMTtoFile(smt_file_path, '(exit)')\n"
   ]
  },
  {
   "cell_type": "code",
   "execution_count": null,
   "metadata": {
    "scrolled": false
   },
   "outputs": [],
   "source": [
    "Samplable"
   ]
  },
  {
   "cell_type": "code",
   "execution_count": 9,
   "metadata": {},
   "outputs": [
    {
     "name": "stdout",
     "output_type": "stream",
     "text": [
      "<class 'scenic.core.regions.PointInRegionDistribution'>\n",
      "PointIn(TypecheckedDistribution(TypecheckedDistribution(<scenic.domains.driving.roads.Network object at 0x1418a5ca0>.laneAt(unnamed Car (5140150208), reject=object is not in a lane), <class 'scenic.core.regions.Region'>).intersect.__call__(<SectorRegion>), <class 'scenic.core.regions.Region'>))\n",
      "OPERATORDISTRIBUTION\n",
      "object type:  <class 'scenic.core.distributions.AttributeDistribution'>\n",
      "__call__\n",
      "<SectorRegion>\n",
      "AttributeDistribution: \n",
      "object:  <class 'scenic.core.distributions.MethodDistribution'>\n",
      "attribute:  intersect\n",
      "MethodDistribution\n",
      "object:  <class 'scenic.domains.driving.roads.Network'>\n",
      "method:  <function Network.laneAt at 0x11bfeba60>\n",
      "arguments:  <class 'scenic.domains.driving.model.Car'>\n"
     ]
    }
   ],
   "source": [
    "\n",
    "ego = scenario.egoObject\n",
    "pos = ego.position\n",
    "\n",
    "otherCar = scenario.objects[1]\n",
    "other_pos = otherCar.position\n",
    "print(type(other_pos))\n",
    "print(other_pos)\n",
    "operatorDist = other_pos.region.dist\n",
    "print(\"OPERATORDISTRIBUTION\")\n",
    "print(\"object type: \", type(operatorDist.object))\n",
    "print(operatorDist.operator)\n",
    "print(operatorDist.operands[0])\n",
    "sectorRegion = operatorDist.operands[0]\n",
    "\n",
    "attributeDist = operatorDist.object\n",
    "print(\"AttributeDistribution: \")\n",
    "print(\"object: \", type(attributeDist.object.dist))\n",
    "print(\"attribute: \", attributeDist.attribute)\n",
    "\n",
    "methodDist = attributeDist.object.dist\n",
    "print(\"MethodDistribution\")\n",
    "print(\"object: \", type(methodDist.object))\n",
    "print(\"method: \", methodDist.method)\n",
    "print(\"arguments: \", type(methodDist.arguments[0]))"
   ]
  },
  {
   "cell_type": "code",
   "execution_count": 10,
   "metadata": {
    "scrolled": true
   },
   "outputs": [
    {
     "name": "stdout",
     "output_type": "stream",
     "text": [
      "PointIn(Options(<Lane>, <Lane>, <Lane>, <Lane>, <Lane>, <Lane>, <Lane>, <Lane>, <Lane>, <Lane>, <Lane>, <Lane>, <Lane>, <Lane>, <Lane>, <Lane>, <Lane>, <Lane>, <Lane>, <Lane>, <Lane>, <Lane>, <Lane>, <Lane>, <Lane>, <Lane>, <Lane>, <Lane>, <Lane>, <Lane>, <Lane>, <Lane>, <Lane>, <Lane>, <Lane>, <Lane>, <Lane>, <Lane>, <Lane>, <Lane>, <Lane>, <Lane>, <Lane>, <Lane>, <Lane>, <Lane>, <Lane>, <Lane>, <Lane>, <Lane>, <Lane>, <Lane>, <Lane>, <Lane>, <Lane>, <Lane>, <Lane>, <Lane>, <Lane>, <Lane>, <Lane>, <Lane>, <Lane>, <Lane>, <Lane>, <Lane>, <Lane>, <Lane>, <Lane>, <Lane>, <Lane>, <Lane>, <Lane>, <Lane>, <Lane>, <Lane>, <Lane>, <Lane>, <Lane>, <Lane>, <Lane>, <Lane>, <Lane>, <Lane>, <Lane>, <Lane>, <Lane>, <Lane>, <Lane>, <Lane>, <Lane>, <Lane>, <Lane>, <Lane>, <Lane>, <Lane>, <Lane>, <Lane>, <Lane>, <Lane>, <Lane>, <Lane>, <Lane>, <Lane>, <Lane>, <Lane>, <Lane>, <Lane>, <Lane>, <Lane>, <Lane>, <Lane>, <Lane>, <Lane>, <Lane>, <Lane>, <Lane>, <Lane>, <Lane>, <Lane>, <Lane>, <Lane>, <Lane>, <Lane>, <Lane>, <Lane>, <Lane>, <Lane>, <Lane>, <Lane>, <Lane>, <Lane>, <Lane>, <Lane>, <Lane>, <Lane>, <Lane>, <Lane>, <Lane>, <Lane>, <Lane>, <Lane>, <Lane>, <Lane>, <Lane>, <Lane>, <Lane>, <Lane>, <Lane>, <Lane>, <Lane>, <Lane>, <Lane>, <Lane>, <Lane>, <Lane>, <Lane>, <Lane>, <Lane>, <Lane>, <Lane>, <Lane>, <Lane>, <Lane>, <Lane>, <Lane>, <Lane>, <Lane>, <Lane>, <Lane>, <Lane>, <Lane>, <Lane>, <Lane>, <Lane>, <Lane>, <Lane>, <Lane>, <Lane>, <Lane>, <Lane>, <Lane>, <Lane>, <Lane>, <Lane>, <Lane>, <Lane>, <Lane>, <Lane>, <Lane>, <Lane>, <Lane>, <Lane>, <Lane>, <Lane>, <Lane>, <Lane>, <Lane>, <Lane>, <Lane>, <Lane>, <Lane>, <Lane>, <Lane>, <Lane>, <Lane>, <Lane>, <Lane>, <Lane>, <Lane>, <Lane>, <Lane>, <Lane>, <Lane>, <Lane>, <Lane>, <Lane>, <Lane>, <Lane>, <Lane>, <Lane>, <Lane>, <Lane>, <Lane>, <Lane>, <Lane>, <Lane>, <Lane>, <Lane>, <Lane>, <Lane>, <Lane>, <Lane>, <Lane>, <Lane>, <Lane>, <Lane>, <Lane>, <Lane>, <Lane>, <Lane>, <Lane>, <Lane>, <Lane>, <Lane>, <Lane>, <Lane>, <Lane>, <Lane>, <Lane>, <Lane>, <Lane>, <Lane>, <Lane>, <Lane>, <Lane>, <Lane>, <Lane>, <Lane>, <Lane>, <Lane>, <Lane>, <Lane>, <Lane>, <Lane>, <Lane>, <Lane>, <Lane>, <Lane>, <Lane>, <Lane>, <Lane>, <Lane>, <Lane>, <Lane>, <Lane>, <Lane>, <Lane>, <Lane>, <Lane>, <Lane>, <Lane>, <Lane>, <Lane>, <Lane>, <Lane>, <Lane>, <Lane>, <Lane>, <Lane>, <Lane>, <Lane>, <Lane>, <Lane>, <Lane>, <Lane>, <Lane>, <Lane>, <Lane>, <Lane>, <Lane>, <Lane>, <Lane>, <Lane>, <Lane>, <Lane>, <Lane>, <Lane>, <Lane>, <Lane>, <Lane>, <Lane>, <Lane>, <Lane>, <Lane>, <Lane>, <Lane>, <Lane>, <Lane>, <Lane>, <Lane>, <Lane>, <Lane>, <Lane>, <Lane>, <Lane>, <Lane>, <Lane>, <Lane>, <Lane>, <Lane>, <Lane>, <Lane>, <Lane>, <Lane>, <Lane>, <Lane>, <Lane>, <Lane>, <Lane>, <Lane>, <Lane>, <Lane>, <Lane>, <Lane>, <Lane>, <Lane>, <Lane>, <Lane>, <Lane>, <Lane>, <Lane>, <Lane>, <Lane>, <Lane>, <Lane>, <Lane>, <Lane>, <Lane>, <Lane>, <Lane>, <Lane>, <Lane>, <Lane>, <Lane>, <Lane>, <Lane>, <Lane>, <Lane>, <Lane>, <Lane>, <Lane>, <Lane>, <Lane>, <Lane>, <Lane>, <Lane>, <Lane>, <Lane>, <Lane>, <Lane>, <Lane>, <Lane>, <Lane>, <Lane>, <Lane>, <Lane>, <Lane>, <Lane>, <Lane>, <Lane>, <Lane>, <Lane>, <Lane>, <Lane>, <Lane>, <Lane>, <Lane>, <Lane>, <Lane>, <Lane>, <Lane>, <Lane>, <Lane>, <Lane>, <Lane>, <Lane>, <Lane>, <Lane>, <Lane>, <Lane>, <Lane>, <Lane>, <Lane>, <Lane>, <Lane>, <Lane>, <Lane>, <Lane>, <Lane>, <Lane>, <Lane>, <Lane>, <Lane>, <Lane>, <Lane>, <Lane>, <Lane>, <Lane>, <Lane>, <Lane>, <Lane>, <Lane>, <Lane>, <Lane>, <Lane>, <Lane>, <Lane>, <Lane>, <Lane>, <Lane>, <Lane>, <Lane>, <Lane>, <Lane>, <Lane>, <Lane>, <Lane>, <Lane>, <Lane>, <Lane>, <Lane>, <Lane>, <Lane>, <Lane>, <Lane>, <Lane>, <Lane>, <Lane>, <Lane>, <Lane>, <Lane>, <Lane>, <Lane>, <Lane>, <Lane>, <Lane>, <Lane>, <Lane>, <Lane>, <Lane>, <Lane>, <Lane>, <Lane>, <Lane>, <Lane>, <Lane>, <Lane>, <Lane>, <Lane>, <Lane>, <Lane>, <Lane>, <Lane>, <Lane>, <Lane>, <Lane>, <Lane>, <Lane>, <Lane>, <Lane>, <Lane>, <Lane>, <Lane>, <Lane>, <Lane>, <Lane>, <Lane>, <Lane>, <Lane>, <Lane>, <Lane>, <Lane>, <Lane>, <Lane>, <Lane>, <Lane>, <Lane>, <Lane>, <Lane>, <Lane>, <Lane>, <Lane>, <Lane>, <Lane>, <Lane>, <Lane>, <Lane>, <Lane>, <Lane>, <Lane>, <Lane>, <Lane>, <Lane>, <Lane>, <Lane>, <Lane>, <Lane>, <Lane>, <Lane>, <Lane>, <Lane>, <Lane>, <Lane>, <Lane>, <Lane>, <Lane>, <Lane>, <Lane>, <Lane>, <Lane>, <Lane>, <Lane>, <Lane>, <Lane>, <Lane>, <Lane>, <Lane>, <Lane>, <Lane>, <Lane>, <Lane>, <Lane>, <Lane>, <Lane>, <Lane>, <Lane>, <Lane>, <Lane>, <Lane>, <Lane>, <Lane>, <Lane>, <Lane>, <Lane>, <Lane>, <Lane>, <Lane>, <Lane>, <Lane>, <Lane>, <Lane>, <Lane>, <Lane>, <Lane>, <Lane>, <Lane>, <Lane>, <Lane>, <Lane>, <Lane>, <Lane>, <Lane>, <Lane>, <Lane>, <Lane>, <Lane>, <Lane>, <Lane>, <Lane>, <Lane>, <Lane>, <Lane>, <Lane>, <Lane>, <Lane>, <Lane>, <Lane>, <Lane>, <Lane>, <Lane>, <Lane>, <Lane>, <Lane>, <Lane>, <Lane>, <Lane>, <Lane>, <Lane>, <Lane>, <Lane>, <Lane>, <Lane>, <Lane>, <Lane>, <Lane>, <Lane>, <Lane>, <Lane>, <Lane>, <Lane>, <Lane>, <Lane>, <Lane>, <Lane>, <Lane>, <Lane>, <Lane>, <Lane>, <Lane>, <Lane>, <Lane>, <Lane>, <Lane>, <Lane>, <Lane>, <Lane>, <Lane>, <Lane>, <Lane>, <Lane>, <Lane>, <Lane>, <Lane>, <Lane>, <Lane>, <Lane>, <Lane>, <Lane>, <Lane>, <Lane>, <Lane>, <Lane>, <Lane>, <Lane>, <Lane>, <Lane>, <Lane>, <Lane>, <Lane>, <Lane>, <Lane>, <Lane>, <Lane>, <Lane>, <Lane>, <Lane>, <Lane>, <Lane>, <Lane>, <Lane>, <Lane>, <Lane>, <Lane>, <Lane>, <Lane>, <Lane>, <Lane>, <Lane>, <Lane>, <Lane>, <Lane>, <Lane>, <Lane>, <Lane>, <Lane>, <Lane>, <Lane>, <Lane>, <Lane>, <Lane>, <Lane>, <Lane>, <Lane>, <Lane>, <Lane>, <Lane>, <Lane>, <Lane>, <Lane>, <Lane>, <Lane>, <Lane>, <Lane>, <Lane>, <Lane>, <Lane>, <Lane>, <Lane>, <Lane>, <Lane>, <Lane>, <Lane>, <Lane>, <Lane>, <Lane>, <Lane>, <Lane>, <Lane>, <Lane>, <Lane>, <Lane>, <Lane>, <Lane>, <Lane>, <Lane>, <Lane>, <Lane>, <Lane>, <Lane>, <Lane>, <Lane>, <Lane>, <Lane>, <Lane>, <Lane>, <Lane>, <Lane>, <Lane>, <Lane>, <Lane>, <Lane>, <Lane>, <Lane>, <Lane>, <Lane>, <Lane>, <Lane>, <Lane>, <Lane>, <Lane>, <Lane>, <Lane>, <Lane>, <Lane>, <Lane>, <Lane>, <Lane>, <Lane>, <Lane>, <Lane>, <Lane>, <Lane>, <Lane>, <Lane>, <Lane>, <Lane>, <Lane>, <Lane>, <Lane>, <Lane>, <Lane>, <Lane>, <Lane>, <Lane>, <Lane>, <Lane>, <Lane>, <Lane>, <Lane>, <Lane>, <Lane>, <Lane>, <Lane>, <Lane>, <Lane>, <Lane>, <Lane>, <Lane>, <Lane>, <Lane>, <Lane>, <Lane>, <Lane>, <Lane>, <Lane>, <Lane>, <Lane>, <Lane>, <Lane>, <Lane>, <Lane>, <Lane>, <Lane>, <Lane>, <Lane>, <Lane>, <Lane>, <Lane>, <Lane>, <Lane>, <Lane>, <Lane>, <Lane>, <Lane>, <Lane>, <Lane>, <Lane>, <Lane>, <Lane>, <Lane>, <Lane>, <Lane>, <Lane>, <Lane>, <Lane>, <Lane>, <Lane>, <Lane>, <Lane>, <Lane>, <Lane>, <Lane>, <Lane>, <Lane>, <Lane>, <Lane>, <Lane>, <Lane>, <Lane>, <Lane>, <Lane>, <Lane>, <Lane>, <Lane>, <Lane>, <Lane>, <Lane>, <Lane>, <Lane>, <Lane>, <Lane>, <Lane>, <Lane>, <Lane>, <Lane>, <Lane>, <Lane>, <Lane>, <Lane>, <Lane>, <Lane>, <Lane>, <Lane>, <Lane>, <Lane>, <Lane>, <Lane>, <Lane>, <Lane>, <Lane>, <Lane>, <Lane>, <Lane>, <Lane>, <Lane>, <Lane>, <Lane>, <Lane>, <Lane>, <Lane>, <Lane>, <Lane>, <Lane>, <Lane>, <Lane>, <Lane>, <Lane>, <Lane>, <Lane>, <Lane>, <Lane>, <Lane>, <Lane>, <Lane>, <Lane>, <Lane>, <Lane>, <Lane>, <Lane>, <Lane>, <Lane>, <Lane>, <Lane>, <Lane>, <Lane>, <Lane>, <Lane>, <Lane>, <Lane>, <Lane>, <Lane>, <Lane>, <Lane>, <Lane>, <Lane>, <Lane>, <Lane>, <Lane>, <Lane>, <Lane>, <Lane>, <Lane>, <Lane>, <Lane>, <Lane>, <Lane>, <Lane>, <Lane>, <Lane>, <Lane>, <Lane>, <Lane>, <Lane>, <Lane>, <Lane>, <Lane>, <Lane>, <Lane>, <Lane>, <Lane>, <Lane>, <Lane>, <Lane>, <Lane>, <Lane>, <Lane>, <Lane>, <Lane>, <Lane>, <Lane>, <Lane>, <Lane>, <Lane>, <Lane>, <Lane>, <Lane>, <Lane>, <Lane>, <Lane>, <Lane>, <Lane>, <Lane>, <Lane>, <Lane>, <Lane>, <Lane>, <Lane>, <Lane>, <Lane>, <Lane>, <Lane>, <Lane>, <Lane>, <Lane>, <Lane>, <Lane>, <Lane>, <Lane>, <Lane>, <Lane>, <Lane>, <Lane>, <Lane>, <Lane>, <Lane>, <Lane>, <Lane>, <Lane>, <Lane>, <Lane>, <Lane>, <Lane>, <Lane>, <Lane>, <Lane>, <Lane>, <Lane>, <Lane>, <Lane>, <Lane>, <Lane>, <Lane>, <Lane>, <Lane>, <Lane>, <Lane>, <Lane>, <Lane>, <Lane>, <Lane>, <Lane>, <Lane>, <Lane>, <Lane>, <Lane>, <Lane>, <Lane>, <Lane>, <Lane>, <Lane>, <Lane>, <Lane>, <Lane>, <Lane>, <Lane>, <Lane>, <Lane>, <Lane>, <Lane>, <Lane>, <Lane>, <Lane>, <Lane>, <Lane>, <Lane>, <Lane>, <Lane>, <Lane>, <Lane>, <Lane>, <Lane>, <Lane>, <Lane>, <Lane>, <Lane>, <Lane>, <Lane>, <Lane>, <Lane>, <Lane>, <Lane>, <Lane>, <Lane>, <Lane>, <Lane>, <Lane>, <Lane>, <Lane>, <Lane>, <Lane>, <Lane>, <Lane>, <Lane>, <Lane>, <Lane>, <Lane>, <Lane>, <Lane>, <Lane>, <Lane>, <Lane>, <Lane>, <Lane>, <Lane>, <Lane>, <Lane>, <Lane>, <Lane>, <Lane>, <Lane>, <Lane>, <Lane>, <Lane>, <Lane>, <Lane>, <Lane>, <Lane>, <Lane>, <Lane>, <Lane>, <Lane>, <Lane>, <Lane>, <Lane>, <Lane>, <Lane>, <Lane>, <Lane>, <Lane>, <Lane>, <Lane>, <Lane>, <Lane>, <Lane>, <Lane>, <Lane>, <Lane>, <Lane>, <Lane>, <Lane>, <Lane>, <Lane>, <Lane>, <Lane>, <Lane>, <Lane>, <Lane>, <Lane>, <Lane>, <Lane>, <Lane>, <Lane>, <Lane>, <Lane>, <Lane>, <Lane>, <Lane>, <Lane>, <Lane>, <Lane>, <Lane>, <Lane>, <Lane>, <Lane>, <Lane>, <Lane>, <Lane>, <Lane>, <Lane>, <Lane>, <Lane>, <Lane>, <Lane>, <Lane>, <Lane>, <Lane>, <Lane>, <Lane>, <Lane>, <Lane>, <Lane>, <Lane>, <Lane>, <Lane>, <Lane>, <Lane>, <Lane>, <Lane>, <Lane>, <Lane>, <Lane>, <Lane>, <Lane>, <Lane>, <Lane>, <Lane>, <Lane>, <Lane>, <Lane>, <Lane>, <Lane>, <Lane>, <Lane>, <Lane>, <Lane>, <Lane>, <Lane>))\n"
     ]
    }
   ],
   "source": [
    "print(ego.position)\n"
   ]
  },
  {
   "cell_type": "code",
   "execution_count": null,
   "metadata": {
    "scrolled": true
   },
   "outputs": [],
   "source": []
  },
  {
   "cell_type": "code",
   "execution_count": null,
   "metadata": {
    "scrolled": true
   },
   "outputs": [],
   "source": []
  },
  {
   "cell_type": "code",
   "execution_count": null,
   "metadata": {},
   "outputs": [],
   "source": []
  },
  {
   "cell_type": "code",
   "execution_count": null,
   "metadata": {},
   "outputs": [],
   "source": []
  },
  {
   "cell_type": "code",
   "execution_count": null,
   "metadata": {},
   "outputs": [],
   "source": []
  },
  {
   "cell_type": "code",
   "execution_count": null,
   "metadata": {
    "scrolled": true
   },
   "outputs": [],
   "source": []
  },
  {
   "cell_type": "code",
   "execution_count": null,
   "metadata": {},
   "outputs": [],
   "source": []
  },
  {
   "cell_type": "code",
   "execution_count": null,
   "metadata": {
    "scrolled": true
   },
   "outputs": [],
   "source": []
  },
  {
   "cell_type": "code",
   "execution_count": null,
   "metadata": {},
   "outputs": [],
   "source": []
  },
  {
   "cell_type": "code",
   "execution_count": null,
   "metadata": {},
   "outputs": [],
   "source": []
  },
  {
   "cell_type": "code",
   "execution_count": null,
   "metadata": {
    "scrolled": true
   },
   "outputs": [],
   "source": []
  },
  {
   "cell_type": "code",
   "execution_count": null,
   "metadata": {},
   "outputs": [],
   "source": []
  },
  {
   "cell_type": "code",
   "execution_count": null,
   "metadata": {},
   "outputs": [],
   "source": []
  },
  {
   "cell_type": "code",
   "execution_count": 10,
   "metadata": {},
   "outputs": [],
   "source": [
    "\n",
    "# import matplotlib.pyplot as plt\n",
    "# from scenic.core.geometry import triangulatePolygon\n",
    "# from scenic.core.vectors import Vector, OrientedVector\n",
    "\n",
    "# def VectorToTuple(vector):\n",
    "# \treturn (vector.x, vector.y)\n",
    "\n",
    "# half_angle = 2 / 2\n",
    "# radius = 10\n",
    "# resolution = 24\n",
    "# center = OrientedVector(-224.72849179, -82.508920774, 2)\n",
    "# circle_center_pt = (center.x, center.y)\n",
    "# heading = center.heading\n",
    "# ctr = shapely.geometry.Point(circle_center_pt)\n",
    "# circle = ctr.buffer(radius, resolution)\n",
    "\n",
    "# mask = shapely.geometry.Polygon([circle_center_pt, VectorToTuple(center.offsetRadially(radius, heading + half_angle)), \\\n",
    "# VectorToTuple(center.offsetRadially(2*radius, heading)), VectorToTuple(center.offsetRadially(radius, heading - half_angle))])\n",
    "# sector = circle & mask\n",
    "\n",
    "# print(multipolygon[0])\n",
    "# intersection = multipolygon[0] & sector\n",
    "# inter = triangulatePolygon(intersection)\n",
    "# print(inter)\n",
    "# plt.plot(*inter[0].exterior.xy)\n",
    "# plt.plot(*inter[1].exterior.xy)\n",
    "# plt.show()\n",
    "\n",
    "# plt.plot(*multipolygon[0].exterior.xy, color='k')\n",
    "# plt.show()\n",
    "# plt.plot(*sector.exterior.xy, color='g')\n",
    "# plt.show()\n",
    "\n",
    "# intersection = []\n",
    "# for polygon in multipolygon:\n",
    "#     inter = polygon & circle\n",
    "#     if inter != shapely.geometry.Polygon():\n",
    "#         intersection.append(inter)\n",
    "\n",
    "# import matplotlib.pyplot as plt\n",
    "\n",
    "# print(intersection[0])\n",
    "# plt.plot(*intersection[1].exterior.xy)"
   ]
  }
 ],
 "metadata": {
  "kernelspec": {
   "display_name": "Python 3",
   "language": "python",
   "name": "python3"
  },
  "language_info": {
   "codemirror_mode": {
    "name": "ipython",
    "version": 3
   },
   "file_extension": ".py",
   "mimetype": "text/x-python",
   "name": "python",
   "nbconvert_exporter": "python",
   "pygments_lexer": "ipython3",
   "version": "3.8.2"
  }
 },
 "nbformat": 4,
 "nbformat_minor": 4
}
